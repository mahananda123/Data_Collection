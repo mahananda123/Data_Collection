{
  "nbformat": 4,
  "nbformat_minor": 0,
  "metadata": {
    "colab": {
      "provenance": [],
      "authorship_tag": "ABX9TyPR0a02AhW4WZOXo8w19Ouv",
      "include_colab_link": true
    },
    "kernelspec": {
      "name": "python3",
      "display_name": "Python 3"
    },
    "language_info": {
      "name": "python"
    }
  },
  "cells": [
    {
      "cell_type": "markdown",
      "metadata": {
        "id": "view-in-github",
        "colab_type": "text"
      },
      "source": [
        "<a href=\"https://colab.research.google.com/github/mahananda123/Data_Collection/blob/main/Collect_data_from_API.ipynb\" target=\"_parent\"><img src=\"https://colab.research.google.com/assets/colab-badge.svg\" alt=\"Open In Colab\"/></a>"
      ]
    },
    {
      "cell_type": "markdown",
      "source": [
        "###Collecting data from Yahoo 2nance using yfinance\n"
      ],
      "metadata": {
        "id": "HhQ_Ih6WVSS_"
      }
    },
    {
      "cell_type": "code",
      "source": [
        "#installation\n",
        "!pip install yfinance\n",
        "!pip install yahoofinancials"
      ],
      "metadata": {
        "colab": {
          "base_uri": "https://localhost:8080/"
        },
        "id": "_sgdrbX_VZsC",
        "outputId": "78293e64-1234-439e-ccfd-b8e151af4977"
      },
      "execution_count": null,
      "outputs": [
        {
          "output_type": "stream",
          "name": "stdout",
          "text": [
            "Requirement already satisfied: yfinance in /usr/local/lib/python3.10/dist-packages (0.2.31)\n",
            "Requirement already satisfied: pandas>=1.3.0 in /usr/local/lib/python3.10/dist-packages (from yfinance) (1.5.3)\n",
            "Requirement already satisfied: numpy>=1.16.5 in /usr/local/lib/python3.10/dist-packages (from yfinance) (1.23.5)\n",
            "Requirement already satisfied: requests>=2.31 in /usr/local/lib/python3.10/dist-packages (from yfinance) (2.31.0)\n",
            "Requirement already satisfied: multitasking>=0.0.7 in /usr/local/lib/python3.10/dist-packages (from yfinance) (0.0.11)\n",
            "Requirement already satisfied: lxml>=4.9.1 in /usr/local/lib/python3.10/dist-packages (from yfinance) (4.9.3)\n",
            "Requirement already satisfied: appdirs>=1.4.4 in /usr/local/lib/python3.10/dist-packages (from yfinance) (1.4.4)\n",
            "Requirement already satisfied: pytz>=2022.5 in /usr/local/lib/python3.10/dist-packages (from yfinance) (2023.3.post1)\n",
            "Requirement already satisfied: frozendict>=2.3.4 in /usr/local/lib/python3.10/dist-packages (from yfinance) (2.3.8)\n",
            "Requirement already satisfied: peewee>=3.16.2 in /usr/local/lib/python3.10/dist-packages (from yfinance) (3.16.3)\n",
            "Requirement already satisfied: beautifulsoup4>=4.11.1 in /usr/local/lib/python3.10/dist-packages (from yfinance) (4.11.2)\n",
            "Requirement already satisfied: html5lib>=1.1 in /usr/local/lib/python3.10/dist-packages (from yfinance) (1.1)\n",
            "Requirement already satisfied: soupsieve>1.2 in /usr/local/lib/python3.10/dist-packages (from beautifulsoup4>=4.11.1->yfinance) (2.5)\n",
            "Requirement already satisfied: six>=1.9 in /usr/local/lib/python3.10/dist-packages (from html5lib>=1.1->yfinance) (1.16.0)\n",
            "Requirement already satisfied: webencodings in /usr/local/lib/python3.10/dist-packages (from html5lib>=1.1->yfinance) (0.5.1)\n",
            "Requirement already satisfied: python-dateutil>=2.8.1 in /usr/local/lib/python3.10/dist-packages (from pandas>=1.3.0->yfinance) (2.8.2)\n",
            "Requirement already satisfied: charset-normalizer<4,>=2 in /usr/local/lib/python3.10/dist-packages (from requests>=2.31->yfinance) (3.3.0)\n",
            "Requirement already satisfied: idna<4,>=2.5 in /usr/local/lib/python3.10/dist-packages (from requests>=2.31->yfinance) (3.4)\n",
            "Requirement already satisfied: urllib3<3,>=1.21.1 in /usr/local/lib/python3.10/dist-packages (from requests>=2.31->yfinance) (2.0.6)\n",
            "Requirement already satisfied: certifi>=2017.4.17 in /usr/local/lib/python3.10/dist-packages (from requests>=2.31->yfinance) (2023.7.22)\n",
            "Collecting yahoofinancials\n",
            "  Downloading yahoofinancials-1.16.tar.gz (41 kB)\n",
            "\u001b[2K     \u001b[90m━━━━━━━━━━━━━━━━━━━━━━━━━━━━━━━━━━━━━━━━\u001b[0m \u001b[32m41.6/41.6 kB\u001b[0m \u001b[31m1.0 MB/s\u001b[0m eta \u001b[36m0:00:00\u001b[0m\n",
            "\u001b[?25h  Preparing metadata (setup.py) ... \u001b[?25l\u001b[?25hdone\n",
            "Requirement already satisfied: pytz in /usr/local/lib/python3.10/dist-packages (from yahoofinancials) (2023.3.post1)\n",
            "Requirement already satisfied: requests>=2.26 in /usr/local/lib/python3.10/dist-packages (from yahoofinancials) (2.31.0)\n",
            "Requirement already satisfied: charset-normalizer<4,>=2 in /usr/local/lib/python3.10/dist-packages (from requests>=2.26->yahoofinancials) (3.3.0)\n",
            "Requirement already satisfied: idna<4,>=2.5 in /usr/local/lib/python3.10/dist-packages (from requests>=2.26->yahoofinancials) (3.4)\n",
            "Requirement already satisfied: urllib3<3,>=1.21.1 in /usr/local/lib/python3.10/dist-packages (from requests>=2.26->yahoofinancials) (2.0.6)\n",
            "Requirement already satisfied: certifi>=2017.4.17 in /usr/local/lib/python3.10/dist-packages (from requests>=2.26->yahoofinancials) (2023.7.22)\n",
            "Building wheels for collected packages: yahoofinancials\n",
            "  Building wheel for yahoofinancials (setup.py) ... \u001b[?25l\u001b[?25hdone\n",
            "  Created wheel for yahoofinancials: filename=yahoofinancials-1.16-py3-none-any.whl size=28709 sha256=8e31d524b296e0222fce079e408d44f6f9f6734d8890b13085a2eeb9ab10f518\n",
            "  Stored in directory: /root/.cache/pip/wheels/fd/fe/c4/4b17989f30abf08d147a72cd1097ae0f6b1a1dd070f3abf726\n",
            "Successfully built yahoofinancials\n",
            "Installing collected packages: yahoofinancials\n",
            "Successfully installed yahoofinancials-1.16\n"
          ]
        }
      ]
    },
    {
      "cell_type": "markdown",
      "source": [
        "###Analysis\n",
        "The yfinance package can be imported into Python programs once it has been installed. We must use the company's ticker as an example in our argument.\n",
        "\n",
        "A security is given a specific set of letters called a ticker or a stock symbol for trading purposes.\n",
        "\n",
        "For instance:\n",
        "\n",
        "For Amazon, it is “AMZN” For Facebook, it is “FB” For Google, it is “GOOGL” For Microsoft, it is \"MSFT\""
      ],
      "metadata": {
        "id": "VWv1HPgAVtfC"
      }
    },
    {
      "cell_type": "code",
      "source": [
        "import yfinance as yahooFinance"
      ],
      "metadata": {
        "id": "5LR_0D0ZVlex"
      },
      "execution_count": 2,
      "outputs": []
    },
    {
      "cell_type": "code",
      "source": [
        "GoogleInfo=yahooFinance.Ticker(\"GOOGL\")"
      ],
      "metadata": {
        "id": "TRm-Wj2OYJQe"
      },
      "execution_count": 3,
      "outputs": []
    },
    {
      "cell_type": "code",
      "source": [
        "print(GoogleInfo.info)"
      ],
      "metadata": {
        "colab": {
          "base_uri": "https://localhost:8080/"
        },
        "id": "yfgkpOt1YQM9",
        "outputId": "dab8cf99-d418-43e1-f0de-c9952bf50120"
      },
      "execution_count": 7,
      "outputs": [
        {
          "output_type": "stream",
          "name": "stdout",
          "text": [
            "{'address1': '1600 Amphitheatre Parkway', 'city': 'Mountain View', 'state': 'CA', 'zip': '94043', 'country': 'United States', 'phone': '650 253 0000', 'website': 'https://www.abc.xyz', 'industry': 'Internet Content & Information', 'industryKey': 'internet-content-information', 'industryDisp': 'Internet Content & Information', 'sector': 'Communication Services', 'sectorKey': 'communication-services', 'sectorDisp': 'Communication Services', 'longBusinessSummary': 'Alphabet Inc. offers various products and platforms in the United States, Europe, the Middle East, Africa, the Asia-Pacific, Canada, and Latin America. It operates through Google Services, Google Cloud, and Other Bets segments. The Google Services segment provides products and services, including ads, Android, Chrome, hardware, Gmail, Google Drive, Google Maps, Google Photos, Google Play, Search, and YouTube. It is also involved in the sale of apps and in-app purchases and digital content in the Google Play store; and Fitbit wearable devices, Google Nest home products, Pixel phones, and other devices, as well as in the provision of YouTube non-advertising services. The Google Cloud segment offers infrastructure, cybersecurity, data, analytics, AI, and machine learning, and other services; Google Workspace that include cloud-based collaboration tools for enterprises, such as Gmail, Docs, Drive, Calendar, and Meet; and other services for enterprise customers. The Other Bets segment sells health technology and internet services. The company was founded in 1998 and is headquartered in Mountain View, California.', 'fullTimeEmployees': 181798, 'companyOfficers': [{'maxAge': 1, 'name': 'Mr. Sundar  Pichai', 'age': 49, 'title': 'CEO & Director', 'yearBorn': 1973, 'fiscalYear': 2022, 'totalPay': 7947461, 'exercisedValue': 39618220, 'unexercisedValue': 0}, {'maxAge': 1, 'name': 'Ms. Ruth M. Porat', 'age': 64, 'title': 'Pres, Chief Investment Officer, Sr. VP & CFO', 'yearBorn': 1958, 'fiscalYear': 2022, 'totalPay': 1790046, 'exercisedValue': 0, 'unexercisedValue': 0}, {'maxAge': 1, 'name': 'Mr. Lawrence Edward Page', 'age': 49, 'title': 'Co-Founder & Director', 'yearBorn': 1973, 'fiscalYear': 2022, 'totalPay': 1, 'exercisedValue': 0, 'unexercisedValue': 0}, {'maxAge': 1, 'name': 'Mr. Sergey  Brin', 'age': 48, 'title': 'Co-Founder & Director', 'yearBorn': 1974, 'fiscalYear': 2022, 'totalPay': 1, 'exercisedValue': 0, 'unexercisedValue': 0}, {'maxAge': 1, 'name': 'Mr. J. Kent Walker', 'age': 61, 'title': 'Pres of Global Affairs, Chief Legal Officer & Company Sec.', 'yearBorn': 1961, 'fiscalYear': 2022, 'totalPay': 1787541, 'exercisedValue': 0, 'unexercisedValue': 0}, {'maxAge': 1, 'name': 'Dr. Prabhakar  Raghavan', 'age': 61, 'title': 'Sr. VP of Knowledge and Information - Google', 'yearBorn': 1961, 'fiscalYear': 2022, 'totalPay': 1785329, 'exercisedValue': 0, 'unexercisedValue': 0}, {'maxAge': 1, 'name': 'Mr. Philipp  Schindler', 'age': 51, 'title': 'Sr. VP & Chief Bus. Officer of Google', 'yearBorn': 1971, 'fiscalYear': 2022, 'totalPay': 1785814, 'exercisedValue': 0, 'unexercisedValue': 0}, {'maxAge': 1, 'name': \"Ms. Amie Thuener O'Toole\", 'age': 47, 'title': 'Chief Accounting Officer & VP', 'yearBorn': 1975, 'exercisedValue': 0, 'unexercisedValue': 0}, {'maxAge': 1, 'name': 'Ms. Ellen  West', 'title': 'VP of Investor Relations', 'exercisedValue': 0, 'unexercisedValue': 0}, {'maxAge': 1, 'name': 'Ms. Fiona Clare Cicconi', 'age': 56, 'title': 'Chief People Officer', 'yearBorn': 1966, 'exercisedValue': 0, 'unexercisedValue': 0}], 'auditRisk': 8, 'boardRisk': 6, 'compensationRisk': 10, 'shareHolderRightsRisk': 10, 'overallRisk': 10, 'governanceEpochDate': 1696118400, 'compensationAsOfEpochDate': 1672444800, 'maxAge': 86400, 'priceHint': 2, 'previousClose': 137.58, 'open': 136.94, 'dayLow': 135.61, 'dayHigh': 138.94, 'regularMarketPreviousClose': 137.58, 'regularMarketOpen': 136.94, 'regularMarketDayLow': 135.61, 'regularMarketDayHigh': 138.94, 'payoutRatio': 0.0, 'beta': 1.042862, 'trailingPE': 28.71784, 'forwardPE': 20.659702, 'volume': 19256223, 'regularMarketVolume': 19256223, 'averageVolume': 28032415, 'averageVolume10days': 24053410, 'averageDailyVolume10Day': 24053410, 'bid': 0.0, 'ask': 0.0, 'bidSize': 1000, 'askSize': 800, 'marketCap': 1752051089408, 'fiftyTwoWeekLow': 83.34, 'fiftyTwoWeekHigh': 139.16, 'priceToSalesTrailing12Months': 6.051342, 'fiftyDayAverage': 132.6866, 'twoHundredDayAverage': 113.3192, 'trailingAnnualDividendRate': 0.0, 'trailingAnnualDividendYield': 0.0, 'currency': 'USD', 'enterpriseValue': 1645846200320, 'profitMargins': 0.21052, 'floatShares': 10881062640, 'sharesOutstanding': 5933000192, 'sharesShort': 46080635, 'sharesShortPriorMonth': 46172293, 'sharesShortPreviousMonthDate': 1692057600, 'dateShortInterest': 1694736000, 'sharesPercentSharesOut': 0.0037, 'heldPercentInsiders': 0.0027700001, 'heldPercentInstitutions': 0.78931, 'shortRatio': 1.81, 'shortPercentOfFloat': 0.0078, 'impliedSharesOutstanding': 12657500160, 'bookValue': 21.153, 'priceToBook': 6.5437527, 'lastFiscalYearEnd': 1672444800, 'nextFiscalYearEnd': 1703980800, 'mostRecentQuarter': 1688083200, 'earningsQuarterlyGrowth': 0.148, 'netIncomeToCommon': 60953001984, 'trailingEps': 4.82, 'forwardEps': 6.7, 'pegRatio': 1.32, 'lastSplitFactor': '20:1', 'lastSplitDate': 1658102400, 'enterpriseToRevenue': 5.685, 'enterpriseToEbitda': 18.012, '52WeekChange': 0.4243672, 'SandP52WeekChange': 0.20809507, 'exchange': 'NMS', 'quoteType': 'EQUITY', 'symbol': 'GOOGL', 'underlyingSymbol': 'GOOGL', 'shortName': 'Alphabet Inc.', 'longName': 'Alphabet Inc.', 'firstTradeDateEpochUtc': 1092922200, 'timeZoneFullName': 'America/New_York', 'timeZoneShortName': 'EDT', 'uuid': 'e15ce71f-f533-3912-9f11-a46c09e2412b', 'messageBoardId': 'finmb_29096', 'gmtOffSetMilliseconds': -14400000, 'currentPrice': 138.42, 'targetHighPrice': 200.0, 'targetLowPrice': 121.0, 'targetMeanPrice': 150.14, 'targetMedianPrice': 150.0, 'recommendationMean': 1.9, 'recommendationKey': 'buy', 'numberOfAnalystOpinions': 43, 'totalCash': 118331998208, 'totalCashPerShare': 9.385, 'ebitda': 91374002176, 'totalDebt': 29432000512, 'quickRatio': 2.022, 'currentRatio': 2.172, 'totalRevenue': 289531002880, 'debtToEquity': 11.017, 'revenuePerShare': 22.547, 'returnOnAssets': 0.1296, 'returnOnEquity': 0.23329, 'grossProfits': 156633000000, 'freeCashflow': 68255125504, 'operatingCashflow': 99142000640, 'earningsGrowth': 0.191, 'revenueGrowth': 0.071, 'grossMargins': 0.55594003, 'ebitdaMargins': 0.31559, 'operatingMargins': 0.26437, 'financialCurrency': 'USD', 'trailingPegRatio': 1.3138}\n"
          ]
        }
      ]
    },
    {
      "cell_type": "markdown",
      "source": [
        "The print statement produces a Python dictionary, which we can analyze and use to get the specific financial data we're looking for from Yahoo Finance. Let's take a few financial critical metrics as an example.\n",
        "\n",
        "The info dictionary contains all firm information. As a result, we may extract the desired elements from the dictionary by parsing it:\n",
        "\n",
        "We can retrieve financial key metrics like Company Sector, Price Earnings Ratio, and Company Beta from the above dictionary of items easily. Let us see the below code"
      ],
      "metadata": {
        "id": "Iz3cjVMPZpIK"
      }
    },
    {
      "cell_type": "code",
      "source": [
        "#display company sector\n",
        "print(\"Company sector:\",GoogleInfo.info['sector'])\n",
        "#display price earnings ratio\n",
        "print(\"Price earnings ratio:\",GoogleInfo.info['trailingPE'])\n",
        "#display company beta\n",
        "print(\"Company beta:\",GoogleInfo.info['beta'])"
      ],
      "metadata": {
        "colab": {
          "base_uri": "https://localhost:8080/"
        },
        "id": "zj4t1NcvZDAE",
        "outputId": "2cc22ecb-fb63-412b-c46a-0beddf4dc5db"
      },
      "execution_count": 9,
      "outputs": [
        {
          "output_type": "stream",
          "name": "stdout",
          "text": [
            "Company sector: Communication Services\n",
            "Price earnings ratio: 28.71784\n",
            "Company beta: 1.042862\n"
          ]
        }
      ]
    },
    {
      "cell_type": "code",
      "source": [
        "#get all key value pairs that are available\n",
        "for key,value in GoogleInfo.info.items():\n",
        "  print(key,\":\",value)"
      ],
      "metadata": {
        "colab": {
          "base_uri": "https://localhost:8080/"
        },
        "id": "8_XwsZ5Yg8uM",
        "outputId": "a0f5d432-d1ef-4dbc-f641-28c0b8d4cd31"
      },
      "execution_count": 10,
      "outputs": [
        {
          "output_type": "stream",
          "name": "stdout",
          "text": [
            "address1 : 1600 Amphitheatre Parkway\n",
            "city : Mountain View\n",
            "state : CA\n",
            "zip : 94043\n",
            "country : United States\n",
            "phone : 650 253 0000\n",
            "website : https://www.abc.xyz\n",
            "industry : Internet Content & Information\n",
            "industryKey : internet-content-information\n",
            "industryDisp : Internet Content & Information\n",
            "sector : Communication Services\n",
            "sectorKey : communication-services\n",
            "sectorDisp : Communication Services\n",
            "longBusinessSummary : Alphabet Inc. offers various products and platforms in the United States, Europe, the Middle East, Africa, the Asia-Pacific, Canada, and Latin America. It operates through Google Services, Google Cloud, and Other Bets segments. The Google Services segment provides products and services, including ads, Android, Chrome, hardware, Gmail, Google Drive, Google Maps, Google Photos, Google Play, Search, and YouTube. It is also involved in the sale of apps and in-app purchases and digital content in the Google Play store; and Fitbit wearable devices, Google Nest home products, Pixel phones, and other devices, as well as in the provision of YouTube non-advertising services. The Google Cloud segment offers infrastructure, cybersecurity, data, analytics, AI, and machine learning, and other services; Google Workspace that include cloud-based collaboration tools for enterprises, such as Gmail, Docs, Drive, Calendar, and Meet; and other services for enterprise customers. The Other Bets segment sells health technology and internet services. The company was founded in 1998 and is headquartered in Mountain View, California.\n",
            "fullTimeEmployees : 181798\n",
            "companyOfficers : [{'maxAge': 1, 'name': 'Mr. Sundar  Pichai', 'age': 49, 'title': 'CEO & Director', 'yearBorn': 1973, 'fiscalYear': 2022, 'totalPay': 7947461, 'exercisedValue': 39618220, 'unexercisedValue': 0}, {'maxAge': 1, 'name': 'Ms. Ruth M. Porat', 'age': 64, 'title': 'Pres, Chief Investment Officer, Sr. VP & CFO', 'yearBorn': 1958, 'fiscalYear': 2022, 'totalPay': 1790046, 'exercisedValue': 0, 'unexercisedValue': 0}, {'maxAge': 1, 'name': 'Mr. Lawrence Edward Page', 'age': 49, 'title': 'Co-Founder & Director', 'yearBorn': 1973, 'fiscalYear': 2022, 'totalPay': 1, 'exercisedValue': 0, 'unexercisedValue': 0}, {'maxAge': 1, 'name': 'Mr. Sergey  Brin', 'age': 48, 'title': 'Co-Founder & Director', 'yearBorn': 1974, 'fiscalYear': 2022, 'totalPay': 1, 'exercisedValue': 0, 'unexercisedValue': 0}, {'maxAge': 1, 'name': 'Mr. J. Kent Walker', 'age': 61, 'title': 'Pres of Global Affairs, Chief Legal Officer & Company Sec.', 'yearBorn': 1961, 'fiscalYear': 2022, 'totalPay': 1787541, 'exercisedValue': 0, 'unexercisedValue': 0}, {'maxAge': 1, 'name': 'Dr. Prabhakar  Raghavan', 'age': 61, 'title': 'Sr. VP of Knowledge and Information - Google', 'yearBorn': 1961, 'fiscalYear': 2022, 'totalPay': 1785329, 'exercisedValue': 0, 'unexercisedValue': 0}, {'maxAge': 1, 'name': 'Mr. Philipp  Schindler', 'age': 51, 'title': 'Sr. VP & Chief Bus. Officer of Google', 'yearBorn': 1971, 'fiscalYear': 2022, 'totalPay': 1785814, 'exercisedValue': 0, 'unexercisedValue': 0}, {'maxAge': 1, 'name': \"Ms. Amie Thuener O'Toole\", 'age': 47, 'title': 'Chief Accounting Officer & VP', 'yearBorn': 1975, 'exercisedValue': 0, 'unexercisedValue': 0}, {'maxAge': 1, 'name': 'Ms. Ellen  West', 'title': 'VP of Investor Relations', 'exercisedValue': 0, 'unexercisedValue': 0}, {'maxAge': 1, 'name': 'Ms. Fiona Clare Cicconi', 'age': 56, 'title': 'Chief People Officer', 'yearBorn': 1966, 'exercisedValue': 0, 'unexercisedValue': 0}]\n",
            "auditRisk : 8\n",
            "boardRisk : 6\n",
            "compensationRisk : 10\n",
            "shareHolderRightsRisk : 10\n",
            "overallRisk : 10\n",
            "governanceEpochDate : 1696118400\n",
            "compensationAsOfEpochDate : 1672444800\n",
            "maxAge : 86400\n",
            "priceHint : 2\n",
            "previousClose : 137.58\n",
            "open : 136.94\n",
            "dayLow : 135.61\n",
            "dayHigh : 138.94\n",
            "regularMarketPreviousClose : 137.58\n",
            "regularMarketOpen : 136.94\n",
            "regularMarketDayLow : 135.61\n",
            "regularMarketDayHigh : 138.94\n",
            "payoutRatio : 0.0\n",
            "beta : 1.042862\n",
            "trailingPE : 28.71784\n",
            "forwardPE : 20.659702\n",
            "volume : 19256223\n",
            "regularMarketVolume : 19256223\n",
            "averageVolume : 28032415\n",
            "averageVolume10days : 24053410\n",
            "averageDailyVolume10Day : 24053410\n",
            "bid : 0.0\n",
            "ask : 0.0\n",
            "bidSize : 1000\n",
            "askSize : 800\n",
            "marketCap : 1752051089408\n",
            "fiftyTwoWeekLow : 83.34\n",
            "fiftyTwoWeekHigh : 139.16\n",
            "priceToSalesTrailing12Months : 6.051342\n",
            "fiftyDayAverage : 132.6866\n",
            "twoHundredDayAverage : 113.3192\n",
            "trailingAnnualDividendRate : 0.0\n",
            "trailingAnnualDividendYield : 0.0\n",
            "currency : USD\n",
            "enterpriseValue : 1645846200320\n",
            "profitMargins : 0.21052\n",
            "floatShares : 10881062640\n",
            "sharesOutstanding : 5933000192\n",
            "sharesShort : 46080635\n",
            "sharesShortPriorMonth : 46172293\n",
            "sharesShortPreviousMonthDate : 1692057600\n",
            "dateShortInterest : 1694736000\n",
            "sharesPercentSharesOut : 0.0037\n",
            "heldPercentInsiders : 0.0027700001\n",
            "heldPercentInstitutions : 0.78931\n",
            "shortRatio : 1.81\n",
            "shortPercentOfFloat : 0.0078\n",
            "impliedSharesOutstanding : 12657500160\n",
            "bookValue : 21.153\n",
            "priceToBook : 6.5437527\n",
            "lastFiscalYearEnd : 1672444800\n",
            "nextFiscalYearEnd : 1703980800\n",
            "mostRecentQuarter : 1688083200\n",
            "earningsQuarterlyGrowth : 0.148\n",
            "netIncomeToCommon : 60953001984\n",
            "trailingEps : 4.82\n",
            "forwardEps : 6.7\n",
            "pegRatio : 1.32\n",
            "lastSplitFactor : 20:1\n",
            "lastSplitDate : 1658102400\n",
            "enterpriseToRevenue : 5.685\n",
            "enterpriseToEbitda : 18.012\n",
            "52WeekChange : 0.4243672\n",
            "SandP52WeekChange : 0.20809507\n",
            "exchange : NMS\n",
            "quoteType : EQUITY\n",
            "symbol : GOOGL\n",
            "underlyingSymbol : GOOGL\n",
            "shortName : Alphabet Inc.\n",
            "longName : Alphabet Inc.\n",
            "firstTradeDateEpochUtc : 1092922200\n",
            "timeZoneFullName : America/New_York\n",
            "timeZoneShortName : EDT\n",
            "uuid : e15ce71f-f533-3912-9f11-a46c09e2412b\n",
            "messageBoardId : finmb_29096\n",
            "gmtOffSetMilliseconds : -14400000\n",
            "currentPrice : 138.42\n",
            "targetHighPrice : 200.0\n",
            "targetLowPrice : 121.0\n",
            "targetMeanPrice : 150.14\n",
            "targetMedianPrice : 150.0\n",
            "recommendationMean : 1.9\n",
            "recommendationKey : buy\n",
            "numberOfAnalystOpinions : 43\n",
            "totalCash : 118331998208\n",
            "totalCashPerShare : 9.385\n",
            "ebitda : 91374002176\n",
            "totalDebt : 29432000512\n",
            "quickRatio : 2.022\n",
            "currentRatio : 2.172\n",
            "totalRevenue : 289531002880\n",
            "debtToEquity : 11.017\n",
            "revenuePerShare : 22.547\n",
            "returnOnAssets : 0.1296\n",
            "returnOnEquity : 0.23329\n",
            "grossProfits : 156633000000\n",
            "freeCashflow : 68255125504\n",
            "operatingCashflow : 99142000640\n",
            "earningsGrowth : 0.191\n",
            "revenueGrowth : 0.071\n",
            "grossMargins : 0.55594003\n",
            "ebitdaMargins : 0.31559\n",
            "operatingMargins : 0.26437\n",
            "financialCurrency : USD\n",
            "trailingPegRatio : 1.3138\n"
          ]
        }
      ]
    },
    {
      "cell_type": "markdown",
      "source": [
        "We can retrieve historical market prices too and display them. Additionally, we can utilize it to get earlier market data.\n",
        "\n",
        "We will use historical Google stock values over the past few years as our example. It is a relatively easy assignment to complete, as demonstrated below"
      ],
      "metadata": {
        "id": "TwSY-sWyhbpN"
      }
    },
    {
      "cell_type": "code",
      "source": [
        "# covering the past few years.\n",
        "# max->maximum number of daily prices available\n",
        "# for Google.\n",
        "# Valid options are 1d, 5d, 1mo, 3mo, 6mo, 1y, 2y,\n",
        "# 5y, 10y and ytd.\n",
        "\n",
        "print(GoogleInfo.history(period=\"max\"))"
      ],
      "metadata": {
        "colab": {
          "base_uri": "https://localhost:8080/"
        },
        "id": "E4kmub8shKaS",
        "outputId": "5af999f5-30be-4a8a-f3b6-bcfc653ba412"
      },
      "execution_count": 12,
      "outputs": [
        {
          "output_type": "stream",
          "name": "stdout",
          "text": [
            "                                 Open        High         Low       Close  \\\n",
            "Date                                                                        \n",
            "2004-08-19 00:00:00-04:00    2.502503    2.604104    2.401401    2.511011   \n",
            "2004-08-20 00:00:00-04:00    2.527778    2.729730    2.515015    2.710460   \n",
            "2004-08-23 00:00:00-04:00    2.771522    2.839840    2.728979    2.737738   \n",
            "2004-08-24 00:00:00-04:00    2.783784    2.792793    2.591842    2.624374   \n",
            "2004-08-25 00:00:00-04:00    2.626627    2.702703    2.599600    2.652653   \n",
            "...                               ...         ...         ...         ...   \n",
            "2023-10-03 00:00:00-04:00  133.940002  134.259995  131.839996  132.429993   \n",
            "2023-10-04 00:00:00-04:00  132.789993  135.570007  132.529999  135.240005   \n",
            "2023-10-05 00:00:00-04:00  135.070007  135.490005  133.449997  135.070007   \n",
            "2023-10-06 00:00:00-04:00  134.009995  138.160004  134.009995  137.580002   \n",
            "2023-10-09 00:00:00-04:00  136.940002  138.940002  135.610001  138.419998   \n",
            "\n",
            "                              Volume  Dividends  Stock Splits  \n",
            "Date                                                           \n",
            "2004-08-19 00:00:00-04:00  893181924        0.0           0.0  \n",
            "2004-08-20 00:00:00-04:00  456686856        0.0           0.0  \n",
            "2004-08-23 00:00:00-04:00  365122512        0.0           0.0  \n",
            "2004-08-24 00:00:00-04:00  304946748        0.0           0.0  \n",
            "2004-08-25 00:00:00-04:00  183772044        0.0           0.0  \n",
            "...                              ...        ...           ...  \n",
            "2023-10-03 00:00:00-04:00   22989400        0.0           0.0  \n",
            "2023-10-04 00:00:00-04:00   26752300        0.0           0.0  \n",
            "2023-10-05 00:00:00-04:00   19832600        0.0           0.0  \n",
            "2023-10-06 00:00:00-04:00   27583200        0.0           0.0  \n",
            "2023-10-09 00:00:00-04:00   19262200        0.0           0.0  \n",
            "\n",
            "[4818 rows x 7 columns]\n"
          ]
        }
      ]
    },
    {
      "cell_type": "code",
      "source": [
        "import datetime\n",
        "start=datetime.datetime(2021,5,31)\n",
        "end=datetime.datetime(2022,5,31)\n",
        "print(GoogleInfo.history(start=start,end=end))"
      ],
      "metadata": {
        "colab": {
          "base_uri": "https://localhost:8080/"
        },
        "id": "UHO5wawMigk6",
        "outputId": "87b468f6-5df8-4041-afbf-0d63271e6e40"
      },
      "execution_count": 13,
      "outputs": [
        {
          "output_type": "stream",
          "name": "stdout",
          "text": [
            "                                 Open        High         Low       Close  \\\n",
            "Date                                                                        \n",
            "2021-06-01 00:00:00-04:00  118.722000  119.285500  117.713997  119.058998   \n",
            "2021-06-02 00:00:00-04:00  119.457497  119.681999  117.617996  118.529503   \n",
            "2021-06-03 00:00:00-04:00  117.286499  117.850998  116.475998  117.378998   \n",
            "2021-06-04 00:00:00-04:00  118.463501  119.951500  118.120499  119.678497   \n",
            "2021-06-07 00:00:00-04:00  119.472000  120.225502  119.050003  120.114998   \n",
            "...                               ...         ...         ...         ...   \n",
            "2022-05-23 00:00:00-04:00  109.587502  112.147499  108.740997  111.487999   \n",
            "2022-05-24 00:00:00-04:00  105.772003  106.458504  101.884499  105.970001   \n",
            "2022-05-25 00:00:00-04:00  104.985497  106.500000  103.856499  105.805000   \n",
            "2022-05-26 00:00:00-04:00  105.677002  108.649498  105.224998  107.792503   \n",
            "2022-05-27 00:00:00-04:00  109.483002  112.318001  109.138496  112.316498   \n",
            "\n",
            "                             Volume  Dividends  Stock Splits  \n",
            "Date                                                          \n",
            "2021-06-01 00:00:00-04:00  23354000        0.0           0.0  \n",
            "2021-06-02 00:00:00-04:00  21158000        0.0           0.0  \n",
            "2021-06-03 00:00:00-04:00  18696000        0.0           0.0  \n",
            "2021-06-04 00:00:00-04:00  24458000        0.0           0.0  \n",
            "2021-06-07 00:00:00-04:00  24120000        0.0           0.0  \n",
            "...                             ...        ...           ...  \n",
            "2022-05-23 00:00:00-04:00  37184000        0.0           0.0  \n",
            "2022-05-24 00:00:00-04:00  76780000        0.0           0.0  \n",
            "2022-05-25 00:00:00-04:00  40258000        0.0           0.0  \n",
            "2022-05-26 00:00:00-04:00  37948000        0.0           0.0  \n",
            "2022-05-27 00:00:00-04:00  37914000        0.0           0.0  \n",
            "\n",
            "[252 rows x 7 columns]\n"
          ]
        }
      ]
    },
    {
      "cell_type": "markdown",
      "source": [
        "We can simultaneously download historical prices for many stocks:\n",
        "\n",
        "The code below Pandas DataFrame including the different price data for the requested stocks.We now select the individual stock by printing df.GOOGL to have the historical market data for\n",
        "Google"
      ],
      "metadata": {
        "id": "ZUgNolzzqNc1"
      }
    },
    {
      "cell_type": "code",
      "source": [
        "df=yahooFinance.download(\"AMZN GOOGL\",start=\"2019-01-01\",end=\"2022-01-01\",group_by=\"ticker\")\n",
        "print(df)"
      ],
      "metadata": {
        "colab": {
          "base_uri": "https://localhost:8080/"
        },
        "id": "njTllZ2qp1jD",
        "outputId": "7692d57e-ce96-4836-cc75-f8fa7059dc4a"
      },
      "execution_count": 14,
      "outputs": [
        {
          "output_type": "stream",
          "name": "stdout",
          "text": [
            "[*********************100%%**********************]  2 of 2 completed\n",
            "                 GOOGL                                                  \\\n",
            "                  Open        High         Low       Close   Adj Close   \n",
            "Date                                                                     \n",
            "2019-01-02   51.360001   53.039501   51.264000   52.734001   52.734001   \n",
            "2019-01-03   52.533501   53.313000   51.118500   51.273499   51.273499   \n",
            "2019-01-04   52.127998   54.000000   51.842999   53.903500   53.903500   \n",
            "2019-01-07   54.048500   54.134998   53.132000   53.796001   53.796001   \n",
            "2019-01-08   54.299999   54.667500   53.417500   54.268501   54.268501   \n",
            "...                ...         ...         ...         ...         ...   \n",
            "2021-12-27  147.255997  148.343994  147.169495  147.906494  147.906494   \n",
            "2021-12-28  148.235992  148.298996  146.054504  146.686996  146.686996   \n",
            "2021-12-29  146.644501  147.417007  145.647507  146.654999  146.654999   \n",
            "2021-12-30  146.694000  147.300003  145.994507  146.200500  146.200500   \n",
            "2021-12-31  146.050003  146.698502  144.852005  144.852005  144.852005   \n",
            "\n",
            "                            AMZN                                      \\\n",
            "              Volume        Open        High         Low       Close   \n",
            "Date                                                                   \n",
            "2019-01-02  31868000   73.260002   77.667999   73.046501   76.956497   \n",
            "2019-01-03  41960000   76.000504   76.900002   74.855499   75.014000   \n",
            "2019-01-04  46022000   76.500000   79.699997   75.915497   78.769501   \n",
            "2019-01-07  47446000   80.115501   81.727997   79.459503   81.475502   \n",
            "2019-01-08  35414000   83.234497   83.830498   80.830498   82.829002   \n",
            "...              ...         ...         ...         ...         ...   \n",
            "2021-12-27  15976000  171.037003  172.942993  169.215500  169.669495   \n",
            "2021-12-28  18200000  170.182495  172.175995  169.135498  170.660995   \n",
            "2021-12-29  17788000  170.839996  171.212006  168.600494  169.201004   \n",
            "2021-12-30  15688000  169.699997  170.888000  168.524002  168.644501   \n",
            "2021-12-31  18136000  168.955994  169.350006  166.558502  166.716995   \n",
            "\n",
            "                                   \n",
            "             Adj Close     Volume  \n",
            "Date                               \n",
            "2019-01-02   76.956497  159662000  \n",
            "2019-01-03   75.014000  139512000  \n",
            "2019-01-04   78.769501  183652000  \n",
            "2019-01-07   81.475502  159864000  \n",
            "2019-01-08   82.829002  177628000  \n",
            "...                ...        ...  \n",
            "2021-12-27  169.669495   58688000  \n",
            "2021-12-28  170.660995   54638000  \n",
            "2021-12-29  169.201004   35754000  \n",
            "2021-12-30  168.644501   37584000  \n",
            "2021-12-31  166.716995   47830000  \n",
            "\n",
            "[757 rows x 12 columns]\n"
          ]
        }
      ]
    },
    {
      "cell_type": "code",
      "source": [
        "print(df.GOOGL)"
      ],
      "metadata": {
        "colab": {
          "base_uri": "https://localhost:8080/"
        },
        "id": "9M_4QusCtzyT",
        "outputId": "7d4951d8-7518-421b-911e-80981f1974ff"
      },
      "execution_count": 17,
      "outputs": [
        {
          "output_type": "stream",
          "name": "stdout",
          "text": [
            "                  Open        High         Low       Close   Adj Close  \\\n",
            "Date                                                                     \n",
            "2019-01-02   51.360001   53.039501   51.264000   52.734001   52.734001   \n",
            "2019-01-03   52.533501   53.313000   51.118500   51.273499   51.273499   \n",
            "2019-01-04   52.127998   54.000000   51.842999   53.903500   53.903500   \n",
            "2019-01-07   54.048500   54.134998   53.132000   53.796001   53.796001   \n",
            "2019-01-08   54.299999   54.667500   53.417500   54.268501   54.268501   \n",
            "...                ...         ...         ...         ...         ...   \n",
            "2021-12-27  147.255997  148.343994  147.169495  147.906494  147.906494   \n",
            "2021-12-28  148.235992  148.298996  146.054504  146.686996  146.686996   \n",
            "2021-12-29  146.644501  147.417007  145.647507  146.654999  146.654999   \n",
            "2021-12-30  146.694000  147.300003  145.994507  146.200500  146.200500   \n",
            "2021-12-31  146.050003  146.698502  144.852005  144.852005  144.852005   \n",
            "\n",
            "              Volume  \n",
            "Date                  \n",
            "2019-01-02  31868000  \n",
            "2019-01-03  41960000  \n",
            "2019-01-04  46022000  \n",
            "2019-01-07  47446000  \n",
            "2019-01-08  35414000  \n",
            "...              ...  \n",
            "2021-12-27  15976000  \n",
            "2021-12-28  18200000  \n",
            "2021-12-29  17788000  \n",
            "2021-12-30  15688000  \n",
            "2021-12-31  18136000  \n",
            "\n",
            "[757 rows x 6 columns]\n"
          ]
        }
      ]
    },
    {
      "cell_type": "code",
      "source": [
        "df.to_csv('Financedata.csv')"
      ],
      "metadata": {
        "id": "0CmM9tets1BI"
      },
      "execution_count": 15,
      "outputs": []
    }
  ]
}